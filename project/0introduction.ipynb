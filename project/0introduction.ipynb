{
 "cells": [
  {
   "cell_type": "markdown",
   "metadata": {},
   "source": [
    "# github用户分类与推荐\n",
    "\n",
    "github是我们一个非常熟悉的网站。它是一个在线软件源代码托管服务平台，使用Git作为版本控制软件。在2018年，GitHub被微软公司收购。github上面有着大量的用户、开源仓库等着我们发现，所以我打算通过研究github公开的数据，来探索有关github用户的一些信息。\n",
    "\n",
    "目标：将github上面的用户进行分类，并向用户推荐他可能感兴趣的用户\n",
    "\n",
    "步骤：\n",
    "\n",
    "1. 通过github开放的api，以及相应的pygithub库来收集数据。\n",
    "2. 根据用户的following，star，repos衡量用户与用户之间的关系紧密程度，并建立用户与用户之间的关系网络。\n",
    "3. 在2的基础上进行数据探索，以求发现一些有趣的事实。\n",
    "4. 运用Node2Vec算法，进行graph embedding，得到特征向量，通过TSNE对特征向量进行初步可视化。\n",
    "5. 运用KMeans算法对github用户进行聚类分析，再次使用TSNE将聚类结果进行可视化，\n",
    "6. 对于模型进行一定的解释分析\n",
    "\n",
    "10225101546 陈胤遒"
   ]
  }
 ],
 "metadata": {
  "language_info": {
   "name": "python"
  }
 },
 "nbformat": 4,
 "nbformat_minor": 2
}
