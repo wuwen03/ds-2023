{
 "cells": [
  {
   "cell_type": "markdown",
   "metadata": {},
   "source": [
    "一些全局数据,lim表示follower数量的范围"
   ]
  },
  {
   "cell_type": "code",
   "execution_count": 214,
   "metadata": {},
   "outputs": [],
   "source": [
    "lim=4000\n",
    "data_path='./data/'"
   ]
  },
  {
   "cell_type": "markdown",
   "metadata": {},
   "source": [
    "先建立用户名到index的映射"
   ]
  },
  {
   "cell_type": "code",
   "execution_count": 215,
   "metadata": {},
   "outputs": [
    {
     "name": "stdout",
     "output_type": "stream",
     "text": [
      "{'torvalds': 0, 'yyx990803': 1, 'gaearon': 2, 'ruanyf': 3, 'gustavoguanabara': 4, 'peng-zhihui': 5, 'openai': 6, 'bradtraversy': 7, 'JakeWharton': 8, 'sindresorhus': 9, 'karpathy': 10, 'microsoft': 11, 'tj': 12, 'rafaballerini': 13, 'getify': 14, 'addyosmani': 15, 'geohot': 16, 'llSourcell': 17, 'michaelliao': 18, 'google': 19, 'github': 20, 'wesbos': 21, 'kentcdodds': 22, 'paulirish': 23, 'filipedeschamps': 24, 'ry': 25, 'kamranahmedse': 26, 'taylorotwell': 27, 'TheAlgorithms': 28, 'diego3g': 29, 'iamshaunjp': 30, 'kennethreitz': 31, 'benawad': 32, 'StephenGrider': 33, 'WebDevSimplified': 34, 'buckyroberts': 35, '3b1b': 36, 'antfu': 37, 'kunal-kushwaha': 38, 'dmalan': 39, 'hadley': 40, 'huggingface': 41, 'daimajia': 42, 'EpicGames': 43, 'mojombo': 44, 'sdras': 45, 'mdo': 46, 'krishnaik06': 47, 'mbostock': 48, 'mrdoob': 49, 'lucidrains': 50, 'defunkt': 51, 'ThePrimeagen': 52, 'tiangolo': 53, 'douglascrockford': 54, 'kelseyhightower': 55, 'gvanrossum': 56, 'gamemann': 57, 'jwasham': 58, 'MrXyfir': 59, 'JacksonTian': 60, 'jonasschmedtmann': 61, 'AYIDouble': 62, 'MorvanZhou': 63, 'keijiro': 64, 'mitsuhiko': 65, 'programthink': 66, 'adrianhajdin': 67, 'antirez': 68, 'tpope': 69, 'cloudwu': 70, 'phodal': 71, 'developedbyed': 72, 'donnemartin': 73, 'codediodeio': 74, 'facebook': 75, 'techwithtim': 76, 'freeCodeCamp': 77, 'shiffman': 78, 'dhh': 79, 'mli': 80, 'rasbt': 81, 'geerlingguy': 82, 'midudev': 83, 'metatimeofficial': 84, 'chrisbanes': 85, 'jeresig': 86, 'facebookresearch': 87, 'john-smilga': 88, 'SebLague': 89, 'python': 90, 'vczh': 91, 'mattt': 92, 'loiane': 93, 'Trinea': 94, 'Rich-Harris': 95, 'ProgrammingHero1': 96, 'brunosimon': 97, 'jakevdp': 98, 'clowwindy': 99, 'justjavac': 100, 'halfrost': 101, 'apple': 102, 'ReVanced': 103, 'jadijadi': 104, 'angelabauer': 105, 'jlord': 106, 'stormzhang': 107, 'mouredev': 108, 'lifesinger': 109, 'xiaolai': 110, 'codingforentrepreneurs': 111, 'JeffreyWay': 112, 'trekhleb': 113, 'fchollet': 114, 'esin': 115, 'johnpapa': 116, 'LeaVerou': 117, 'onevcat': 118, 'CodeWithHarry': 119, 'Ovilia': 120, 'astaxie': 121, 'liyupi': 122, 'maykbrito': 123, 'RubyLouvre': 124, 'jackfrued': 125, 'BEPb': 126, 'Asabeneh': 127, 'spf13': 128, 'PremChapagain': 129, 'CyC2018': 130, 'josevalim': 131, 'cumsoft': 132, 'taniarascia': 133, 'isaacs': 134, 'unknwon': 135, 'sorrycc': 136, 'feross': 137, 'goodfeli': 138, 'kubowania': 139, 'wesm': 140, 'yinwang0': 141, 'rauchg': 142, 'bailicangdu': 143, 'sandhikagalih': 144, 'ahejlsberg': 145, 'in28minutes': 146, 'peter-kimanzi': 147, 'chiphuyen': 148, 'breakwa11': 149, 'jashkenas': 150, 'ageron': 151, 'unclebob': 152, 'acdlite': 153, 'fabpot': 154, 'schacon': 155, 'vuejs': 156, 'Code-Bullet': 157, 'hongyangAndroid': 158, 'kenjinote': 159, 'gopinav': 160, 'fengdu78': 161, 'jessfraz': 162, 'flutter': 163, 'florinpop17': 164, 'draveness': 165, 'PanJiaChen': 166, 'angusshire': 167, 'Visualize-ML': 168, 'BYVoid': 169, 'cassidoo': 170, 'DIYgod': 171, 'haoel': 172, 'laruence': 173, 'developit': 174, 'hakimel': 175, 'brianyu28': 176, 'ibireme': 177, 'KaimingHe': 178, 'miguelgrinberg': 179, 'vercel': 180, 'mitchellh': 181, 'iconfont-cn': 182, 'CoreyMSchafer': 183, 'abuanwar072': 184, 'KalleHallden': 185, 'egoist': 186, 'tensorflow': 187, 'mathiasbynens': 188, 'rakyll': 189, 'twitter': 190, 'soumith': 191, 'alibaba': 192, 'btholt': 193, 'anuraghazra': 194, 'bradfitz': 195, 'agentzh': 196, 'davidfowl': 197, 'vbuterin': 198, 'dotnet': 199, 'mattn': 200, 'Klerith': 201, 'octocat': 202, 'evanw': 203, 'dsacademybr': 204, 'fouber': 205, 'community': 206, 'tqchen': 207, 'muan': 208, 'adamwathan': 209, 'iampawan': 210, 'YunaiV': 211, 'mosh-hamedani': 212, 'mqyqingfeng': 213, 'lydiahallie': 214, 'shanselman': 215, 'AUTOMATIC1111': 216, 'LukeSmithxyz': 217, 'tomnomnom': 218, 'jakearchibald': 219, 'acenelio': 220, 'chriscoyier': 221, 'ForrestKnight': 222, 'bvaughn': 223, 'zenorocha': 224, 'android': 225, 'romannurik': 226, 'QianMo': 227, 'necolas': 228, 'sofish': 229, 'kevin-powell': 230, 'amueller': 231, 'samyk': 232, 'atilsamancioglu': 233, 'offensive-security': 234, 'ggerganov': 235, 'miloyip': 236, 'chenshuo': 237, 'cs50': 238, 'hiteshchoudhary': 239, 'benbalter': 240, 'apache': 241, 'wycats': 242, 'Kwynto': 243, 'leerob': 244, 'TheCherno': 245, 'tannerlinsley': 246, 'jonhoo': 247, 'nodejs': 248, 'nzakas': 249, 'Snailclimb': 250, 'JohnHammond': 251, 'robpike': 252, 'romainguy': 253, 'mnielsen': 254, 'engindemirog': 255, 'eugenp': 256, 'bedimcode': 257, 'CoderMJLee': 258, 'aneagoie': 259, 'sophiebits': 260, 'mgechev': 261, 'skydoves': 262, 'Sentdex': 263, 'toddmotto': 264, 'ustbhuangyi': 265, 'matz': 266, 'yangshun': 267, 'craftzdog': 268, 'haileys': 269, 'htr-tech': 270, 'jvns': 271, 'jhaddix': 272, 'pjreddie': 273, 'matheusbattisti': 274, 'wintercn': 275, 'Pierian-Data': 276, 'AllenDowney': 277, 'dennybritz': 278, 'philipplackner': 279, 'tenderlove': 280, 'alex': 281, 'PacktPublishing': 282, 'twbs': 283, 'Elfocrash': 284, 'nicknochnack': 285, 'wasabeef': 286, 'colah': 287, 'teteusAraujo': 288, 'easychen': 289, 'AlexTheAnalyst': 290, 'rsc': 291, 'ryanflorence': 292, 'akitaonrails': 293, 'typicode': 294, 'ErickWendel': 295, 'dyc87112': 296, 'wizardforcel': 297, 'munificent': 298, 'CleverProgrammer': 299, 'shiftkey': 300, 'yihui': 301, 'i5ting': 302, 'joshlong': 303, 'jcjohnson': 304, 'Jack-Cherish': 305, 'listen1': 306, 'BurntSushi': 307, 'arthurspk': 308, 'bot50': 309, 'lattner': 310, 'sokra': 311, 'ityouknow': 312, 'professorguanabara': 313, 'norvig': 314, 'jaredpalmer': 315, 'spring-projects': 316, 'igrigorik': 317, 'bojone': 318, 'lepture': 319, 'fat': 320, 'macrozheng': 321, 'jamiebuilds': 322, 'MisterBooo': 323, 'ChenYilong': 324, 'aws-samples': 325, 'DevonCrawford': 326, 'mcollina': 327, 'alineai18': 328, 'carpedm20': 329, 'clementmihailescu': 330, 'audreyt': 331, 'Visual-Studio-Code': 332, 'ethereum': 333, 'GoesToEleven': 334, 'liaohuqiu': 335, 'ghost': 336, 'sebmarkbage': 337, 'ai': 338, 'hkirat': 339, 'topjohnwu': 340, 'pjhyett': 341, 'Fndroid': 342, '996icu': 343, 'rwieruch': 344, 'noob-hackers': 345, 'jordwalke': 346, 'bchiang7': 347, 'f': 348, 'termux': 349, '521xueweihan': 350, 'Stability-AI': 351, 'PatrickAlphaC': 352, 'fatih': 353, 'abhishekkrthakur': 354, 'rust-lang': 355, 'koush': 356, 'daneden': 357, 'simplesteph': 358, 'fengmk2': 359, 'lexfridman': 360, 'mercyblitz': 361, 'justmarkham': 362, 's0md3v': 363, 'cusspvz': 364, 'rengwuxian': 365, 'drakeet': 366, 'OneLoneCoder': 367, 'felangel': 368, 'amigoscode': 369, 'hmaverickadams': 370, 'rovo89': 371, 'chokcoco': 372, 'Colt': 373, 'BilgisayarKavramlari': 374, 'stefanprodan': 375, 'cyanharlow': 376, 'eddiejaoude': 377, 'mdn': 378, '2dust': 379, 'ahmetb': 380, 'Fuelet': 381, 'scroll-tech': 382, 'ryanb': 383, 'ardalis': 384, 'lucasmontano': 385, 'knadh': 386, 'jamesmontemagno': 387, 'aplus-developer': 388, 'remy': 389, 'amitshekhariitbhu': 390, 'springframeworkguru': 391, 'hwchase17': 392, 'ElzeroWebSchool': 393, 'DeborahK': 394, 'liuyubobobo': 395, 'open-mmlab': 396, 'brendangregg': 397, 'Germey': 398, 'bubbliiiing': 399, 'shadcn': 400, 'meehawk': 401, 'wcandillon': 402, 'CarGuo': 403, 'gitdagray': 404, 'Unity-Technologies': 405, 'Azure': 406, 'singwhatiwanna': 407, 't3dotgg': 408, 'alyssaxuu': 409, 'felipefialho': 410, 'junegunn': 411, 'rdpeng': 412, 'google-research': 413, 'jtleek': 414, 'zcbenz': 415, 'tangqiaoboy': 416, 'twostraws': 417, 'pytorch': 418, 'danielmiessler': 419, 'vinta': 420, 'willianjusten': 421, 'sebastianbergmann': 422, '0vm': 423, 'shengxinjing': 424, 'mrdbourke': 425, 'JohnSundell': 426, 'lllyasviel': 427, 'mxcl': 428, 'FiloSottile': 429, 'flipperdevices': 430, 'evilsocket': 431, 'Yangqing': 432, 'aws': 433, 'google-deepmind': 434, 'overtrue': 435, 'zloirock': 436, 'Jinjiang': 437, 'kubernetes': 438, 'intel-innersource': 439, 'H-K-R': 440, 'mitchtabian': 441, 'jasineri': 442, 'GoogleCloudPlatform': 443, 'cami-la': 444, 'swisskyrepo': 445, 'jaywcjlove': 446, 'dabit3': 447, 'dalindev': 448, 'afc163': 449, 'xufei': 450, 'kamilmysliwiec': 451, 'fazt': 452, 'rsms': 453, 'crnacura': 454, 'nahamsec': 455, 'mjackson': 456, 'Huxpro': 457, 'oldratlee': 458, 'jskeet': 459, 'mxstbr': 460, 'Tencent': 461, 'dataprofessor': 462, 'dtolnay': 463, 'max-mapper': 464, 'LaravelDaily': 465, 'android10': 466, 'mattdesl': 467, 'algorithmzuo': 468, 'tjdevries': 469, 'ChrisTitusTech': 470, 'V1nni00': 471, 'cornflourblue': 472, 'frontend-joe': 473, 'stebsnusch': 474, 'mustafamuratcoskun': 475, 'NeuralNine': 476, 'hehonghui': 477, 'notwaldorf': 478, 'GrahamCampbell': 479, 'rbgirshick': 480, 'commonsguy': 481, 'steveklabnik': 482, 'NVIDIA': 483, 'phith0n': 484, 'jart': 485, 'jeffheaton': 486, 'nat': 487, 'omariosouto': 488, 'tekkub': 489, 'cheshire137': 490, 'yuanming-hu': 491, 'junyanz': 492, 'byt3bl33d3r': 493, 'vjanz': 494, 'ericelliott': 495, 'ossu': 496, 'ljharb': 497, 'mschwarzmueller': 498, 'davidbombal': 499, 'rrousselGit': 500, 'rougier': 501, 'ChristianLempa': 502, 'historicalsource': 503, 'koushikkothagal': 504, 'hashicorp': 505, 'jhcloos': 506, 'davecheney': 507, 'JCSIVO': 508, 'sudheerj': 509, 'TheLarkInn': 510, 'nihui': 511, 'nunomaduro': 512, 'holman': 513, 'swyxio': 514, 'Alvin9999': 515, 'rhiever': 516, 'Microsoft-corp': 517, 'skyzh': 518, 'rstacruz': 519, 'youngyangyang04': 520, 'fireship-io': 521, 'django': 522, 'barryvdh': 523, 'swankjesse': 524, 'appleboy': 525, 'mozilla': 526, 'lilianweng': 527, 'emmabostian': 528, 'JetBrains': 529, 'labuladong': 530, 'sharkdp': 531, 'coderwhy': 532, 'rwightman': 533, 'maxschwarzmueller': 534, 'golang': 535, 'nicklockwood': 536, 'HashLips': 537, 'divanov11': 538, 'ahmadawais': 539, 'nikic': 540, 'skywind3000': 541, 'marijnh': 542, 'amusi': 543, 'jojoldu': 544, 'mstraughan86': 545, 'home-assistant': 546, 'rodrigobranas': 547, 'luizomf': 548, 'mafintosh': 549, 'petehunt': 550, 'mxmnk': 551, 'prakhar1989': 552, 'jxnblk': 553, 'lemire': 554, 'EbookFoundation': 555, 'TheOdinProject': 556, 'staltz': 557, 'tiann': 558, 'hackedteam': 559, 'geektime-geekbang': 560, 'zero-to-mastery': 561, 'orta': 562, 'desandro': 563, 'tc39': 564, 'vxunderground': 565, 'mhevery': 566, 'TooTallNate': 567, 'rexim': 568, 'andrewrk': 569, 'graydon': 570, 'THUDM': 571, 'guolindev': 572, 'pmndrs': 573, 'richhickey': 574, 'vivekweb2013': 575, 'isyuricunha': 576, 'hussien89aa': 577, 'machadop1407': 578, 'chenglou': 579, 'ZhangMYihua': 580, 'qiwsir': 581, 'mpj': 582, 'bagder': 583, 'docker': 584, 'gaoxiang12': 585, 'jgthms': 586, 'intel-sandbox': 587, 'tailwindlabs': 588, 'bigtreetech': 589, 'shuding': 590, 'Jarred-Sumner': 591, 'LingDong-': 592, 'evancz': 593, 'PySimpleGUI': 594, 'Magicianred': 595, 'Grafikart': 596, 'joshwcomeau': 597, 'charmbracelet': 598, 'BrendanEich': 599, 'safak': 600, 'planetoftheweb': 601, 'crossoverJie': 602, 'jbogard': 603, 'moxie0': 604, 'JubayerRiyad': 605, 'iuricode': 606, 'iam-veeramalla': 607, 'greenrobot': 608, 'MichalPaszkiewicz': 609, 'datawhalechina': 610, 'dai-shi': 611, 'mikepenz': 612, 'evilcos': 613, 'KrauseFx': 614, 'jdah': 615, 'liuhuanyong': 616, 'nfultz': 617, 'mourner': 618, 'xuxueli': 619, 'markerikson': 620, 'yanhaijing': 621, 'BaseMax': 622, 'afollestad': 623, 'sebastianruder': 624, 'ashishpatel26': 625, 'antoniolg': 626, 'ValentineFernandes': 627, 'ankane': 628, 'Lightning-AI': 629, 'loveBabbar': 630, 'projectdiscovery': 631, 'simonw': 632, 'zhangxinxu': 633, 'AsahiLinux': 634, 'nswbmw': 635, 'fogleman': 636, 'eggprotocol': 637, 'hackingthemarkets': 638, 'hasherezade': 639, 'laravel': 640, 'giswqs': 641, 'akira-cn': 642, 'fuzhengwei': 643, 'jph00': 644, 'learnwithsumit': 645, 'jasontaylordev': 646, 'LiveOverflow': 647, 'Ebazhanov': 648, 'replicate': 649, 'williamfiset': 650, 'domenic': 651, 'jdalton': 652, 'dair-ai': 653, 'alsotang': 654, 'rui314': 655, 'jennybc': 656, 'hzoo': 657, 'EddieHubCommunity': 658, 'joyeecheung': 659, 'PKUFlyingPig': 660, 'posva': 661, 'sadikturan': 662, 'aymericdamien': 663, 'angular': 664, 'codecrafters-io': 665, 'researchersource': 666, 'NARKOZ': 667, 'discord': 668, 'bytedance': 669, 'hak5darren': 670, 'leebyron': 671, 'mholt': 672, 'Neo23x0': 673, 'vakila': 674, 'julycoding': 675, 'himself65': 676, 'KeithGalli': 677, 'LeonidasEsteban': 678, 'TommyZihao': 679, 'kenwheeler': 680, 'awslabs': 681, 'coolsnowwolf': 682, 'creationix': 683, 'jinzhu': 684, 'UberGuidoZ': 685, 'cursoemvideo': 686, 'avelino': 687, 'eriklindernoren': 688, 'fenixsoft': 689, 'ebidel': 690, 'naveenanimation20': 691, 'huangz1990': 692, 'csswizardry': 693, 'desktop': 694, 'HcySunYang': 695, 'KevinHock': 696, 'eliben': 697, 'freddier': 698, 'alanhamlett': 699, 'ornicar': 700, 'tylermcginnis': 701, 'godotengine': 702, 'a8m': 703, 'codewars': 704, 'CharlesCreativeContent': 705, 'ncase': 706, 'emilk': 707, 'aptos-labs': 708, 'bizz84': 709, 'dabeaz': 710, 'MichelliBrito': 711, 'ashleygwilliams': 712, 'AbdeenM': 713, 'JeffreyZhao': 714, 'patrickloeber': 715, 'hellokaton': 716, 'guo-yu': 717, 'themsaid': 718, 'QuincyLarson': 719, 'Akryum': 720, 'asottile': 721, 'wepe': 722, 'cmlsharp': 723, 'DanWahlin': 724, 'NobyDa': 725, 'kevinsawicki': 726, 'huacnlee': 727, 'Netflix': 728, 'Shougo': 729, 'mikeal': 730, 'wx-chevalier': 731, 'chai2010': 732, 'acheong08': 733, 'timneutkens': 734, 'teddysun': 735, 'kulikov-dev': 736, 'roboticcam': 737, 'romanofficial': 738, 'geeeeeeeeek': 739, 'aphyr': 740, 'atian25': 741, 'hrydgard': 742, 'ming1016': 743, 'alexcrichton': 744, 'susanli2016': 745, 'stephencelis': 746, 'bevacqua': 747, 'andrewjmead': 748, 'lihaoyi': 749, 'mckaywrigley': 750, 'WZMIAOMIAO': 751, 'ept': 752, 'sebmck': 753, 'sobolevn': 754, 'ValveSoftware': 755, 'jgilfelt': 756, 'asLody': 757, 'jherr': 758, 'sahat': 759, 'murtazahassan': 760, 'noopkat': 761, 'driesvints': 762, 'wangzheng0822': 763, 'timbl': 764, 'badtuxx': 765, 'drkostas': 766, 'hansonwang99': 767, 'alexellis': 768, 'AlexeyAB': 769, 'Blankj': 770, 'hardmaru': 771, 'Anuj-Kumar-Sharma': 772, 'SensorsIot': 773, 'numbbbbb': 774, 'rfyiamcool': 775, 'LuNiZz': 776, 'mislav': 777, 'soffes': 778, 'freekmurze': 779, 'jindongwang': 780, 'philipwalton': 781, 'una': 782, 'yihong0618': 783, 'ogrisel': 784, 'hax': 785, 'bahmutov': 786, 'somekindofwallflower': 787, 'felixrieseberg': 788, 'falvojr': 789, 'madeye': 790, 'waylau': 791, 'vim-scripts': 792, 'hasinhayder': 793, 'luxplanjay': 794, 'CamDavidsonPilon': 795, 'JedWatson': 796, 'jeffersonsimaogoncalves': 797, 'w3cj': 798, 'barretlee': 799, 'mahseema': 800, 'rusty1s': 801, 'exercism': 802, 'steipete': 803, 'daveshap': 804, 'BretFisher': 805, 'anisul-Islam': 806, 'bbatsov': 807, 'calebporzio': 808, 'mikepound': 809, 'tonsky': 810, 'azl397985856': 811, 'MicrosoftDocs': 812, 'JohannesMilke': 813, 'PaddlePaddle': 814, 'lenve': 815, 'shadowsocks': 816, 'zpao': 817, 'oschina': 818, 'smallnest': 819, 'satyanadella': 820, 'microsoftopensource': 821, 'Dreamacro': 822, 'coryhouse': 823, 'AntonioErdeljac': 824, 'robbyrussell': 825, 'changkun': 826, 'minimaxir': 827, 'Seldaek': 828, 'Marak': 829, 'bezkoder': 830, 'nikitavoloboev': 831, 'ozboware': 832, 'dead-horse': 833, 'anvaka': 834, 'Errichto': 835, 'kripken': 836, 'OWASP': 837, 'tw93': 838, 'yegor256': 839, 'joelgrus': 840, 'KieSun': 841, 'WillKoehrsen': 842, 'rs': 843, 'championswimmer': 844, 'asweigart': 845, 'scoobytux': 846, 'Terry-Mao': 847, 'insidegui': 848, 'vladilenm': 849, 'kdn251': 850, 'migueldeicaza': 851, 'tshemsedinov': 852, 'krzysztofzablocki': 853, 'kesenhoo': 854, 'poteto': 855, 'xoreaxeaxeax': 856, 'RamotionDev': 857, 'campoy': 858, 'mmumshad': 859, 'hmason': 860, 'hankcs': 861, 'answershuto': 862, 'lukeed': 863, 'doodlewind': 864, 'jakeliny': 865, 'dirambora': 866, 'inconvergent': 867, 'AlianeAmaral': 868, 'antonbabenko': 869, 'avolutionprotocol': 870, 'bitwarden': 871, 'Gizachew29': 872, 'cyrilmottier': 873, 'unicodeveloper': 874, 'nickbutcher': 875, 'pissang': 876, 'mission-peace': 877, 'lefticus': 878, 'danistefanovic': 879, 'jishanshaikh4': 880, 'zkat': 881, 'MariyaSha': 882, 'leixiaohua1020': 883, 'Ocramius': 884, 'jlengstorf': 885, 'florina-muntenescu': 886, 'surma': 887, 'JeffersonRPM': 888, 'thedaviddias': 889, 'rwaldron': 890, 'JeffLi1993': 891, 'luin': 892, 'SaraSoueidan': 893, 'ken': 894, 'Hendrixer': 895, 'base-org': 896, 'fzaninotto': 897, 'swannodette': 898, 'MicrosoftLearning': 899, 'yeasy': 900, 'goldbergyoni': 901, 'imArafatHussein': 902, 'hustcc': 903, 'RameshMF': 904, 'gregkh': 905, 'lazyprogrammer': 906, 'rochacbruno': 907, 'gakonst': 908, 'riti2409': 909, 'mattpocock': 910, 'codepen': 911, 'david-kariuki': 912, 'Shopify': 913, 'sonnysangha': 914, 'JessYanCoding': 915, 'Kr328': 916, 'tsoding': 917, 'florent37': 918, 'hakanyalcinkaya': 919, 'iluwatar': 920, 'karan': 921, 'chyyuu': 922, 'iamtrask': 923, 'steven-tey': 924, 'brentvatne': 925, 'gorhill': 926, 'DanielHe4rt': 927, 'Atinux': 928, 'serranoarevalo': 929, 'Aakashdeveloper': 930, 'SaraVieira': 931, 'dawidolko': 932, 'pydanny': 933, 'orangetw': 934, 'mikeash': 935, 'biaochenxuying': 936, 'mcxiaoke': 937, 'philsturgeon': 938, 'marcan': 939, 'matklad': 940, 'cch123': 941, 'Yidadaa': 942, 'chrisvfritz': 943, 'dylanaraps': 944, 'catppuccin': 945, 'lucasrmagalhaes': 946, 'blueimp': 947, 'Brooooooklyn': 948, 'jonschlinkert': 949, 'academind': 950, 'campusx-official': 951, 'ekmett': 952}\n",
      "['torvalds', 'yyx990803', 'gaearon', 'ruanyf', 'gustavoguanabara', 'peng-zhihui', 'openai', 'bradtraversy', 'JakeWharton', 'sindresorhus', 'karpathy', 'microsoft', 'tj', 'rafaballerini', 'getify', 'addyosmani', 'geohot', 'llSourcell', 'michaelliao', 'google', 'github', 'wesbos', 'kentcdodds', 'paulirish', 'filipedeschamps', 'ry', 'kamranahmedse', 'taylorotwell', 'TheAlgorithms', 'diego3g', 'iamshaunjp', 'kennethreitz', 'benawad', 'StephenGrider', 'WebDevSimplified', 'buckyroberts', '3b1b', 'antfu', 'kunal-kushwaha', 'dmalan', 'hadley', 'huggingface', 'daimajia', 'EpicGames', 'mojombo', 'sdras', 'mdo', 'krishnaik06', 'mbostock', 'mrdoob', 'lucidrains', 'defunkt', 'ThePrimeagen', 'tiangolo', 'douglascrockford', 'kelseyhightower', 'gvanrossum', 'gamemann', 'jwasham', 'MrXyfir', 'JacksonTian', 'jonasschmedtmann', 'AYIDouble', 'MorvanZhou', 'keijiro', 'mitsuhiko', 'programthink', 'adrianhajdin', 'antirez', 'tpope', 'cloudwu', 'phodal', 'developedbyed', 'donnemartin', 'codediodeio', 'facebook', 'techwithtim', 'freeCodeCamp', 'shiffman', 'dhh', 'mli', 'rasbt', 'geerlingguy', 'midudev', 'metatimeofficial', 'chrisbanes', 'jeresig', 'facebookresearch', 'john-smilga', 'SebLague', 'python', 'vczh', 'mattt', 'loiane', 'Trinea', 'Rich-Harris', 'ProgrammingHero1', 'brunosimon', 'jakevdp', 'clowwindy', 'justjavac', 'halfrost', 'apple', 'ReVanced', 'jadijadi', 'angelabauer', 'jlord', 'stormzhang', 'mouredev', 'lifesinger', 'xiaolai', 'codingforentrepreneurs', 'JeffreyWay', 'trekhleb', 'fchollet', 'esin', 'johnpapa', 'LeaVerou', 'onevcat', 'CodeWithHarry', 'Ovilia', 'astaxie', 'liyupi', 'maykbrito', 'RubyLouvre', 'jackfrued', 'BEPb', 'Asabeneh', 'spf13', 'PremChapagain', 'CyC2018', 'josevalim', 'cumsoft', 'taniarascia', 'isaacs', 'unknwon', 'sorrycc', 'feross', 'goodfeli', 'kubowania', 'wesm', 'yinwang0', 'rauchg', 'bailicangdu', 'sandhikagalih', 'ahejlsberg', 'in28minutes', 'peter-kimanzi', 'chiphuyen', 'breakwa11', 'jashkenas', 'ageron', 'unclebob', 'acdlite', 'fabpot', 'schacon', 'vuejs', 'Code-Bullet', 'hongyangAndroid', 'kenjinote', 'gopinav', 'fengdu78', 'jessfraz', 'flutter', 'florinpop17', 'draveness', 'PanJiaChen', 'angusshire', 'Visualize-ML', 'BYVoid', 'cassidoo', 'DIYgod', 'haoel', 'laruence', 'developit', 'hakimel', 'brianyu28', 'ibireme', 'KaimingHe', 'miguelgrinberg', 'vercel', 'mitchellh', 'iconfont-cn', 'CoreyMSchafer', 'abuanwar072', 'KalleHallden', 'egoist', 'tensorflow', 'mathiasbynens', 'rakyll', 'twitter', 'soumith', 'alibaba', 'btholt', 'anuraghazra', 'bradfitz', 'agentzh', 'davidfowl', 'vbuterin', 'dotnet', 'mattn', 'Klerith', 'octocat', 'evanw', 'dsacademybr', 'fouber', 'community', 'tqchen', 'muan', 'adamwathan', 'iampawan', 'YunaiV', 'mosh-hamedani', 'mqyqingfeng', 'lydiahallie', 'shanselman', 'AUTOMATIC1111', 'LukeSmithxyz', 'tomnomnom', 'jakearchibald', 'acenelio', 'chriscoyier', 'ForrestKnight', 'bvaughn', 'zenorocha', 'android', 'romannurik', 'QianMo', 'necolas', 'sofish', 'kevin-powell', 'amueller', 'samyk', 'atilsamancioglu', 'offensive-security', 'ggerganov', 'miloyip', 'chenshuo', 'cs50', 'hiteshchoudhary', 'benbalter', 'apache', 'wycats', 'Kwynto', 'leerob', 'TheCherno', 'tannerlinsley', 'jonhoo', 'nodejs', 'nzakas', 'Snailclimb', 'JohnHammond', 'robpike', 'romainguy', 'mnielsen', 'engindemirog', 'eugenp', 'bedimcode', 'CoderMJLee', 'aneagoie', 'sophiebits', 'mgechev', 'skydoves', 'Sentdex', 'toddmotto', 'ustbhuangyi', 'matz', 'yangshun', 'craftzdog', 'haileys', 'htr-tech', 'jvns', 'jhaddix', 'pjreddie', 'matheusbattisti', 'wintercn', 'Pierian-Data', 'AllenDowney', 'dennybritz', 'philipplackner', 'tenderlove', 'alex', 'PacktPublishing', 'twbs', 'Elfocrash', 'nicknochnack', 'wasabeef', 'colah', 'teteusAraujo', 'easychen', 'AlexTheAnalyst', 'rsc', 'ryanflorence', 'akitaonrails', 'typicode', 'ErickWendel', 'dyc87112', 'wizardforcel', 'munificent', 'CleverProgrammer', 'shiftkey', 'yihui', 'i5ting', 'joshlong', 'jcjohnson', 'Jack-Cherish', 'listen1', 'BurntSushi', 'arthurspk', 'bot50', 'lattner', 'sokra', 'ityouknow', 'professorguanabara', 'norvig', 'jaredpalmer', 'spring-projects', 'igrigorik', 'bojone', 'lepture', 'fat', 'macrozheng', 'jamiebuilds', 'MisterBooo', 'ChenYilong', 'aws-samples', 'DevonCrawford', 'mcollina', 'alineai18', 'carpedm20', 'clementmihailescu', 'audreyt', 'Visual-Studio-Code', 'ethereum', 'GoesToEleven', 'liaohuqiu', 'ghost', 'sebmarkbage', 'ai', 'hkirat', 'topjohnwu', 'pjhyett', 'Fndroid', '996icu', 'rwieruch', 'noob-hackers', 'jordwalke', 'bchiang7', 'f', 'termux', '521xueweihan', 'Stability-AI', 'PatrickAlphaC', 'fatih', 'abhishekkrthakur', 'rust-lang', 'koush', 'daneden', 'simplesteph', 'fengmk2', 'lexfridman', 'mercyblitz', 'justmarkham', 's0md3v', 'cusspvz', 'rengwuxian', 'drakeet', 'OneLoneCoder', 'felangel', 'amigoscode', 'hmaverickadams', 'rovo89', 'chokcoco', 'Colt', 'BilgisayarKavramlari', 'stefanprodan', 'cyanharlow', 'eddiejaoude', 'mdn', '2dust', 'ahmetb', 'Fuelet', 'scroll-tech', 'ryanb', 'ardalis', 'lucasmontano', 'knadh', 'jamesmontemagno', 'aplus-developer', 'remy', 'amitshekhariitbhu', 'springframeworkguru', 'hwchase17', 'ElzeroWebSchool', 'DeborahK', 'liuyubobobo', 'open-mmlab', 'brendangregg', 'Germey', 'bubbliiiing', 'shadcn', 'meehawk', 'wcandillon', 'CarGuo', 'gitdagray', 'Unity-Technologies', 'Azure', 'singwhatiwanna', 't3dotgg', 'alyssaxuu', 'felipefialho', 'junegunn', 'rdpeng', 'google-research', 'jtleek', 'zcbenz', 'tangqiaoboy', 'twostraws', 'pytorch', 'danielmiessler', 'vinta', 'willianjusten', 'sebastianbergmann', '0vm', 'shengxinjing', 'mrdbourke', 'JohnSundell', 'lllyasviel', 'mxcl', 'FiloSottile', 'flipperdevices', 'evilsocket', 'Yangqing', 'aws', 'google-deepmind', 'overtrue', 'zloirock', 'Jinjiang', 'kubernetes', 'intel-innersource', 'H-K-R', 'mitchtabian', 'jasineri', 'GoogleCloudPlatform', 'cami-la', 'swisskyrepo', 'jaywcjlove', 'dabit3', 'dalindev', 'afc163', 'xufei', 'kamilmysliwiec', 'fazt', 'rsms', 'crnacura', 'nahamsec', 'mjackson', 'Huxpro', 'oldratlee', 'jskeet', 'mxstbr', 'Tencent', 'dataprofessor', 'dtolnay', 'max-mapper', 'LaravelDaily', 'android10', 'mattdesl', 'algorithmzuo', 'tjdevries', 'ChrisTitusTech', 'V1nni00', 'cornflourblue', 'frontend-joe', 'stebsnusch', 'mustafamuratcoskun', 'NeuralNine', 'hehonghui', 'notwaldorf', 'GrahamCampbell', 'rbgirshick', 'commonsguy', 'steveklabnik', 'NVIDIA', 'phith0n', 'jart', 'jeffheaton', 'nat', 'omariosouto', 'tekkub', 'cheshire137', 'yuanming-hu', 'junyanz', 'byt3bl33d3r', 'vjanz', 'ericelliott', 'ossu', 'ljharb', 'mschwarzmueller', 'davidbombal', 'rrousselGit', 'rougier', 'ChristianLempa', 'historicalsource', 'koushikkothagal', 'hashicorp', 'jhcloos', 'davecheney', 'JCSIVO', 'sudheerj', 'TheLarkInn', 'nihui', 'nunomaduro', 'holman', 'swyxio', 'Alvin9999', 'rhiever', 'Microsoft-corp', 'skyzh', 'rstacruz', 'youngyangyang04', 'fireship-io', 'django', 'barryvdh', 'swankjesse', 'appleboy', 'mozilla', 'lilianweng', 'emmabostian', 'JetBrains', 'labuladong', 'sharkdp', 'coderwhy', 'rwightman', 'maxschwarzmueller', 'golang', 'nicklockwood', 'HashLips', 'divanov11', 'ahmadawais', 'nikic', 'skywind3000', 'marijnh', 'amusi', 'jojoldu', 'mstraughan86', 'home-assistant', 'rodrigobranas', 'luizomf', 'mafintosh', 'petehunt', 'mxmnk', 'prakhar1989', 'jxnblk', 'lemire', 'EbookFoundation', 'TheOdinProject', 'staltz', 'tiann', 'hackedteam', 'geektime-geekbang', 'zero-to-mastery', 'orta', 'desandro', 'tc39', 'vxunderground', 'mhevery', 'TooTallNate', 'rexim', 'andrewrk', 'graydon', 'THUDM', 'guolindev', 'pmndrs', 'richhickey', 'vivekweb2013', 'isyuricunha', 'hussien89aa', 'machadop1407', 'chenglou', 'ZhangMYihua', 'qiwsir', 'mpj', 'bagder', 'docker', 'gaoxiang12', 'jgthms', 'intel-sandbox', 'tailwindlabs', 'bigtreetech', 'shuding', 'Jarred-Sumner', 'LingDong-', 'evancz', 'PySimpleGUI', 'Magicianred', 'Grafikart', 'joshwcomeau', 'charmbracelet', 'BrendanEich', 'safak', 'planetoftheweb', 'crossoverJie', 'jbogard', 'moxie0', 'JubayerRiyad', 'iuricode', 'iam-veeramalla', 'greenrobot', 'MichalPaszkiewicz', 'datawhalechina', 'dai-shi', 'mikepenz', 'evilcos', 'KrauseFx', 'jdah', 'liuhuanyong', 'nfultz', 'mourner', 'xuxueli', 'markerikson', 'yanhaijing', 'BaseMax', 'afollestad', 'sebastianruder', 'ashishpatel26', 'antoniolg', 'ValentineFernandes', 'ankane', 'Lightning-AI', 'loveBabbar', 'projectdiscovery', 'simonw', 'zhangxinxu', 'AsahiLinux', 'nswbmw', 'fogleman', 'eggprotocol', 'hackingthemarkets', 'hasherezade', 'laravel', 'giswqs', 'akira-cn', 'fuzhengwei', 'jph00', 'learnwithsumit', 'jasontaylordev', 'LiveOverflow', 'Ebazhanov', 'replicate', 'williamfiset', 'domenic', 'jdalton', 'dair-ai', 'alsotang', 'rui314', 'jennybc', 'hzoo', 'EddieHubCommunity', 'joyeecheung', 'PKUFlyingPig', 'posva', 'sadikturan', 'aymericdamien', 'angular', 'codecrafters-io', 'researchersource', 'NARKOZ', 'discord', 'bytedance', 'hak5darren', 'leebyron', 'mholt', 'Neo23x0', 'vakila', 'julycoding', 'himself65', 'KeithGalli', 'LeonidasEsteban', 'TommyZihao', 'kenwheeler', 'awslabs', 'coolsnowwolf', 'creationix', 'jinzhu', 'UberGuidoZ', 'cursoemvideo', 'avelino', 'eriklindernoren', 'fenixsoft', 'ebidel', 'naveenanimation20', 'huangz1990', 'csswizardry', 'desktop', 'HcySunYang', 'KevinHock', 'eliben', 'freddier', 'alanhamlett', 'ornicar', 'tylermcginnis', 'godotengine', 'a8m', 'codewars', 'CharlesCreativeContent', 'ncase', 'emilk', 'aptos-labs', 'bizz84', 'dabeaz', 'MichelliBrito', 'ashleygwilliams', 'AbdeenM', 'JeffreyZhao', 'patrickloeber', 'hellokaton', 'guo-yu', 'themsaid', 'QuincyLarson', 'Akryum', 'asottile', 'wepe', 'cmlsharp', 'DanWahlin', 'NobyDa', 'kevinsawicki', 'huacnlee', 'Netflix', 'Shougo', 'mikeal', 'wx-chevalier', 'chai2010', 'acheong08', 'timneutkens', 'teddysun', 'kulikov-dev', 'roboticcam', 'romanofficial', 'geeeeeeeeek', 'aphyr', 'atian25', 'hrydgard', 'ming1016', 'alexcrichton', 'susanli2016', 'stephencelis', 'bevacqua', 'andrewjmead', 'lihaoyi', 'mckaywrigley', 'WZMIAOMIAO', 'ept', 'sebmck', 'sobolevn', 'ValveSoftware', 'jgilfelt', 'asLody', 'jherr', 'sahat', 'murtazahassan', 'noopkat', 'driesvints', 'wangzheng0822', 'timbl', 'badtuxx', 'drkostas', 'hansonwang99', 'alexellis', 'AlexeyAB', 'Blankj', 'hardmaru', 'Anuj-Kumar-Sharma', 'SensorsIot', 'numbbbbb', 'rfyiamcool', 'LuNiZz', 'mislav', 'soffes', 'freekmurze', 'jindongwang', 'philipwalton', 'una', 'yihong0618', 'ogrisel', 'hax', 'bahmutov', 'somekindofwallflower', 'felixrieseberg', 'falvojr', 'madeye', 'waylau', 'vim-scripts', 'hasinhayder', 'luxplanjay', 'CamDavidsonPilon', 'JedWatson', 'jeffersonsimaogoncalves', 'w3cj', 'barretlee', 'mahseema', 'rusty1s', 'exercism', 'steipete', 'daveshap', 'BretFisher', 'anisul-Islam', 'bbatsov', 'calebporzio', 'mikepound', 'tonsky', 'azl397985856', 'MicrosoftDocs', 'JohannesMilke', 'PaddlePaddle', 'lenve', 'shadowsocks', 'zpao', 'oschina', 'smallnest', 'satyanadella', 'microsoftopensource', 'Dreamacro', 'coryhouse', 'AntonioErdeljac', 'robbyrussell', 'changkun', 'minimaxir', 'Seldaek', 'Marak', 'bezkoder', 'nikitavoloboev', 'ozboware', 'dead-horse', 'anvaka', 'Errichto', 'kripken', 'OWASP', 'tw93', 'yegor256', 'joelgrus', 'KieSun', 'WillKoehrsen', 'rs', 'championswimmer', 'asweigart', 'scoobytux', 'Terry-Mao', 'insidegui', 'vladilenm', 'kdn251', 'migueldeicaza', 'tshemsedinov', 'krzysztofzablocki', 'kesenhoo', 'poteto', 'xoreaxeaxeax', 'RamotionDev', 'campoy', 'mmumshad', 'hmason', 'hankcs', 'answershuto', 'lukeed', 'doodlewind', 'jakeliny', 'dirambora', 'inconvergent', 'AlianeAmaral', 'antonbabenko', 'avolutionprotocol', 'bitwarden', 'Gizachew29', 'cyrilmottier', 'unicodeveloper', 'nickbutcher', 'pissang', 'mission-peace', 'lefticus', 'danistefanovic', 'jishanshaikh4', 'zkat', 'MariyaSha', 'leixiaohua1020', 'Ocramius', 'jlengstorf', 'florina-muntenescu', 'surma', 'JeffersonRPM', 'thedaviddias', 'rwaldron', 'JeffLi1993', 'luin', 'SaraSoueidan', 'ken', 'Hendrixer', 'base-org', 'fzaninotto', 'swannodette', 'MicrosoftLearning', 'yeasy', 'goldbergyoni', 'imArafatHussein', 'hustcc', 'RameshMF', 'gregkh', 'lazyprogrammer', 'rochacbruno', 'gakonst', 'riti2409', 'mattpocock', 'codepen', 'david-kariuki', 'Shopify', 'sonnysangha', 'JessYanCoding', 'Kr328', 'tsoding', 'florent37', 'hakanyalcinkaya', 'iluwatar', 'karan', 'chyyuu', 'iamtrask', 'steven-tey', 'brentvatne', 'gorhill', 'DanielHe4rt', 'Atinux', 'serranoarevalo', 'Aakashdeveloper', 'SaraVieira', 'dawidolko', 'pydanny', 'orangetw', 'mikeash', 'biaochenxuying', 'mcxiaoke', 'philsturgeon', 'marcan', 'matklad', 'cch123', 'Yidadaa', 'chrisvfritz', 'dylanaraps', 'catppuccin', 'lucasrmagalhaes', 'blueimp', 'Brooooooklyn', 'jonschlinkert', 'academind', 'campusx-official', 'ekmett']\n",
      "953\n"
     ]
    }
   ],
   "source": [
    "import os\n",
    "import csv\n",
    "\n",
    "user_ind={}\n",
    "user=[]\n",
    "with open(os.path.join(data_path,f'followers_over_{lim}.csv'),mode='r',encoding='utf-8') as f:\n",
    "    user=list(map(lambda x:x[0],csv.reader(f)))\n",
    "    for i,name in enumerate(user):\n",
    "        user_ind[name]=i\n",
    "    csv_reader=csv.reader(f)\n",
    "print(user_ind)\n",
    "print(user)\n",
    "print(len(user))"
   ]
  },
  {
   "cell_type": "markdown",
   "metadata": {},
   "source": [
    "基于之前获得的用户的关注列表，star仓库列表和拥有的仓库列表，计算一个用户对于另外一个用户的权重，这里对于权重进行说明：\n",
    "\n",
    "考虑$A->B$的权重：\n",
    "* $following$ : A一共following的用户的数量   \n",
    "* $star$ : A一共star的仓库的数量\n",
    "* $k_{1}$ : A,B共同star的仓库的权重     \n",
    "* $num_{1}$ : A,B共同star的仓库的数量\n",
    "* $k_{2}$ : A star B的仓库的权重      \n",
    "* $num_{2}$ ：A star B的仓库的数量\n",
    "* $k_{3}$ : A,B共同following的用户的权重   \n",
    "* $num_{3}$ ：A,B共同following的用户数量\n",
    "* $k_{4}$ : A关注B的权重\n",
    "* $k_{5}$ ：AB相互关注的权重\n",
    "\n",
    "所以最后的权重的计算公式为：\n",
    "$weight_{A->B}=k_{1}*num_{1}/star+k_{2}*num_{2}/star+k_{3}*num_{3}/following+k_{4}+k_{5}$\n",
    "\n",
    "在这里，我对于$following,star$的数量进行了一个限制，因为我认为star或者following的人数较少的话，可能不能够有效地体现出该用户的偏好。\n",
    "\n",
    "对于权重的设置，这里经过了一些尝试，我认为目前的设置应该是最好的，简单介绍一下思路: 我认为A star B的仓库的权重，和AB相互关注的权重应该是最高的，因为这边表明两人的关系非常紧密，共同star的较低，因为有可能存在从众效应。A关注B的权重为0，因为我认为A关注B不能说明很多问题，比方说Linus的仓库有很多人关注，但是从事Linux相关工作的用户其实非常少。\n",
    "\n",
    "最后设置一个门槛，表明只有关系达到一定的程度，才被认为两者之间存在关系"
   ]
  },
  {
   "cell_type": "code",
   "execution_count": 216,
   "metadata": {},
   "outputs": [
    {
     "name": "stderr",
     "output_type": "stream",
     "text": [
      "  0%|          | 0/953 [00:00<?, ?it/s]"
     ]
    },
    {
     "name": "stderr",
     "output_type": "stream",
     "text": [
      "100%|██████████| 953/953 [00:00<00:00, 3715.36it/s]\n",
      "100%|██████████| 953/953 [00:00<00:00, 4059.52it/s]\n",
      "100%|██████████| 953/953 [00:00<00:00, 6049.79it/s]\n",
      "100%|██████████| 953/953 [00:06<00:00, 150.52it/s]"
     ]
    },
    {
     "name": "stdout",
     "output_type": "stream",
     "text": [
      "661 7080\n"
     ]
    },
    {
     "name": "stderr",
     "output_type": "stream",
     "text": [
      "\n"
     ]
    }
   ],
   "source": [
    "from tqdm import tqdm\n",
    "\n",
    "total = len(user)\n",
    "\n",
    "k1 = 100  # 共同star的仓库 的权重\n",
    "k2 = 2000  # A star B的仓库 的权重\n",
    "k3 = 100  # 共同following的ueser 的权重\n",
    "k4 = 0 # A关注B 的权重\n",
    "k5 = 500  # AB相互关注 的权重\n",
    "threshhold = 50\n",
    "\n",
    "st = set()\n",
    "cnt=0\n",
    "\n",
    "def fun(reader):\n",
    "    return list(map(lambda x: x[0], reader))\n",
    "\n",
    "miss = set()\n",
    "\n",
    "following_list = []\n",
    "for i in tqdm(range(0, total)):\n",
    "    if not os.path.exists(os.path.join(data_path, f\"{user[i]}_following.csv\")):\n",
    "        following_list.append({})\n",
    "        miss.add(i)\n",
    "    else:\n",
    "        with open(\n",
    "            os.path.join(data_path, f\"{user[i]}_following.csv\"),\n",
    "            mode=\"r\",\n",
    "            encoding=\"utf-8\",\n",
    "        ) as f:\n",
    "            following_list.append(set(fun(csv.reader(f))))\n",
    "\n",
    "star_list = []\n",
    "for i in tqdm(range(0, total)):\n",
    "    if not os.path.exists(os.path.join(data_path, f\"{user[i]}_stars.csv\")):\n",
    "        star_list.append({})\n",
    "        miss.add(i)\n",
    "    else:\n",
    "        with open(\n",
    "            os.path.join(data_path, f\"{user[i]}_stars.csv\"), mode=\"r\", encoding=\"utf-8\"\n",
    "        ) as f:\n",
    "            star_list.append(set(fun(csv.reader(f))))\n",
    "\n",
    "repo_list = []\n",
    "for i in tqdm(range(0, total)):\n",
    "    if not os.path.exists(os.path.join(data_path, f\"{user[i]}_repos.csv\")):\n",
    "        repo_list.append({})\n",
    "        miss.add(i)\n",
    "    else:\n",
    "        with open(\n",
    "            os.path.join(data_path, f\"{user[i]}_repos.csv\"), mode=\"r\", encoding=\"utf-8\"\n",
    "        ) as f:\n",
    "            repo_list.append(set(fun(csv.reader(f))))\n",
    "\n",
    "with open(\"./graph.txt\", mode=\"w\", encoding=\"utf-8\") as f:\n",
    "    for i in tqdm(range(0, total)):\n",
    "        if i in miss:\n",
    "            continue\n",
    "\n",
    "        for j in range(0, total):\n",
    "            if i == j or j in miss:\n",
    "                continue\n",
    "\n",
    "            weight = 0\n",
    "            # 共同star的仓库\n",
    "            if len(star_list[i]) > 50:\n",
    "                weight += (\n",
    "                    k1\n",
    "                    * len(star_list[i].intersection(star_list[j]))\n",
    "                    / len(star_list[i])\n",
    "                )\n",
    "\n",
    "            # A star B的仓库\n",
    "            if len(star_list[i]) > 50:\n",
    "                weight += (\n",
    "                    k2\n",
    "                    * len(star_list[i].intersection(repo_list[j]))\n",
    "                    / len(star_list[i])\n",
    "                )\n",
    "            # 共同following的user\n",
    "            if len(following_list[i]) > 30:\n",
    "                weight += (\n",
    "                    k3\n",
    "                    * len(following_list[i].intersection(following_list[j]))\n",
    "                    / len(following_list[i])\n",
    "                )\n",
    "            # A关注B\n",
    "            weight += k4 if user[j] in following_list[i] else 0\n",
    "            # AB相互关注\n",
    "            weight += (\n",
    "                k5\n",
    "                if user[j] in following_list[i] and user[i] in following_list[j]\n",
    "                else 0\n",
    "            )\n",
    "\n",
    "            if user[j] in following_list[i] and user[i] in following_list[j] and i<j and user[i]=='moxie0':\n",
    "                print(user[i],user[j])\n",
    "\n",
    "            if weight >= threshhold:\n",
    "                f.write(f\"{user[i]} {user[j]} {int(weight)}\\n\")\n",
    "                cnt+=1\n",
    "                st.add(user[i])\n",
    "                st.add(user[j])\n",
    "\n",
    "print(len(st),cnt)"
   ]
  },
  {
   "cell_type": "markdown",
   "metadata": {},
   "source": [
    "利用pickle，将有关的数据保存，便于之后使用"
   ]
  },
  {
   "cell_type": "code",
   "execution_count": 217,
   "metadata": {},
   "outputs": [],
   "source": [
    "import pickle\n",
    "pickle.dump([user,user_ind,following_list,star_list,repo_list],open('./data.pkl','wb'))"
   ]
  }
 ],
 "metadata": {
  "kernelspec": {
   "display_name": "ds",
   "language": "python",
   "name": "python3"
  },
  "language_info": {
   "codemirror_mode": {
    "name": "ipython",
    "version": 3
   },
   "file_extension": ".py",
   "mimetype": "text/x-python",
   "name": "python",
   "nbconvert_exporter": "python",
   "pygments_lexer": "ipython3",
   "version": "3.10.13"
  }
 },
 "nbformat": 4,
 "nbformat_minor": 2
}
