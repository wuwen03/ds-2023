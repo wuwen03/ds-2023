{
 "cells": [
  {
   "cell_type": "markdown",
   "metadata": {},
   "source": [
    "提取前num_class个类别"
   ]
  },
  {
   "cell_type": "code",
   "execution_count": 33,
   "metadata": {},
   "outputs": [],
   "source": [
    "import os\n",
    "num_class=100 #使用的汉字种类\n",
    "def class_txt(root,out_path,num_class=20):\n",
    "    dirs=os.listdir(root)\n",
    "    if not num_class:\n",
    "        num_class=len(dirs)\n",
    "    if not os.path.exists(out_path):\n",
    "        f=open(out_path,'w')\n",
    "        f.close()\n",
    "    with open(out_path,'r+') as f:\n",
    "        try:\n",
    "            end = int(f.readlines()[-1].split('/')[-2]) + 1\n",
    "        except:\n",
    "            end = 0\n",
    "        if end < num_class - 1:\n",
    "            dirs.sort()\n",
    "            dirs = dirs[end:num_class]\n",
    "            for dir in dirs:\n",
    "                files = os.listdir(os.path.join(root, dir))\n",
    "                # print(os.path.join(root,dir)+'/'+files[0])\n",
    "                for file in files:\n",
    "                    f.write(os.path.join(root, dir)+'/'+file + '\\n')\n",
    "\n",
    "#训练集和测试集的地址\n",
    "train_path='./../data/train/'\n",
    "test_path='./../data/test/'\n",
    "\n",
    "class_txt(train_path,'train_class_txt.txt',num_class=num_class)\n",
    "class_txt(test_path,'test_class_txt.txt',num_class=num_class)"
   ]
  },
  {
   "cell_type": "code",
   "execution_count": 34,
   "metadata": {},
   "outputs": [
    {
     "name": "stdout",
     "output_type": "stream",
     "text": [
      "cuda\n"
     ]
    }
   ],
   "source": [
    "import torch\n",
    "dev = torch.device(\n",
    "    \"cuda\") if torch.cuda.is_available() else torch.device(\"cpu\")\n",
    "# dev=torch.device('cpu')\n",
    "print(dev)"
   ]
  },
  {
   "cell_type": "markdown",
   "metadata": {},
   "source": [
    "通过上一步的目录，构建数据集"
   ]
  },
  {
   "cell_type": "code",
   "execution_count": 35,
   "metadata": {},
   "outputs": [],
   "source": [
    "import matplotlib.pyplot as plt\n",
    "from torch.utils.data import Dataset,DataLoader\n",
    "from PIL import Image\n",
    "class MyDataset(Dataset):\n",
    "    def __init__(self, txt_path, num_class=20, transforms=None):\n",
    "        super(MyDataset, self).__init__()\n",
    "        images = [] # 存储图片路径\n",
    "        labels = [] # 存储类别名，在本例中是数字\n",
    "        # 打开上一步生成的txt文件\n",
    "        with open(txt_path, 'r') as f:\n",
    "            for line in f:\n",
    "                # print(line)\n",
    "                if int(line.split('/')[-2]) >= num_class:  # 只读取前 num_class 个类\n",
    "                    break\n",
    "                line = line.strip('\\n')\n",
    "                images.append(line)\n",
    "                labels.append(int(line.split('/')[-2]))\n",
    "        self.images = images\n",
    "        self.labels = labels\n",
    "        self.transforms = transforms # 图片需要进行的变换，ToTensor()等等\n",
    "\n",
    "    def __getitem__(self, index):\n",
    "        image = Image.open(self.images[index]).convert('RGB') # 用PIL.Image读取图像\n",
    "        label = self.labels[index]\n",
    "        if self.transforms is not None:\n",
    "            image = self.transforms(image) # 进行变换\n",
    "        # plt.imshow(image)\n",
    "        image=image.float().to(dev)\n",
    "        label=torch.tensor(label).to(dev)\n",
    "        return image, label\n",
    "\n",
    "    def __len__(self):\n",
    "        return len(self.labels)"
   ]
  },
  {
   "cell_type": "markdown",
   "metadata": {},
   "source": [
    "图片处理，并做出dataset和dataloader"
   ]
  },
  {
   "cell_type": "code",
   "execution_count": 36,
   "metadata": {},
   "outputs": [],
   "source": [
    "from torchvision import transforms\n",
    "trans=transforms.Compose([\n",
    "                          transforms.PILToTensor(),\n",
    "                          transforms.Grayscale(1),\n",
    "                          transforms.Resize((56,56)),\n",
    "                          transforms.Pad(4,255),\n",
    "                          transforms.ColorJitter(contrast=(0,255)),\n",
    "                          ])\n",
    "train_dataset=MyDataset('train_class_txt.txt',num_class,transforms=trans)\n",
    "test_dataset=MyDataset('test_class_txt.txt',num_class,transforms=trans)\n",
    "\n",
    "batch_size=128\n",
    "train_dl=DataLoader(train_dataset,batch_size=batch_size,shuffle=True)\n",
    "test_dl=DataLoader(test_dataset,batch_size=2*batch_size)"
   ]
  },
  {
   "cell_type": "markdown",
   "metadata": {},
   "source": [
    "神经网络"
   ]
  },
  {
   "cell_type": "code",
   "execution_count": 37,
   "metadata": {},
   "outputs": [],
   "source": [
    "import torch.nn as nn\n",
    "import torch.nn.functional as F\n",
    "class block(nn.Module):\n",
    "    def __init__(self,in_channel,outchannel) -> None:\n",
    "        super().__init__()\n",
    "        self.cov=nn.Conv2d(in_channel,outchannel,3,padding=1)\n",
    "        self.BN=nn.BatchNorm2d(outchannel)\n",
    "        self.pool=nn.MaxPool2d(2,2)\n",
    "    \n",
    "    def forward(self,x):\n",
    "        x=self.cov(x)\n",
    "        x=self.BN(x)\n",
    "        x=F.relu(x)\n",
    "        x=self.pool(x)\n",
    "        return x\n",
    "\n",
    "class VGG(nn.Module):\n",
    "    def __init__(self) -> None:\n",
    "        super().__init__()\n",
    "        self.cov=nn.Sequential(\n",
    "            block(1,64),\n",
    "            block(64,128),\n",
    "            block(128,256),\n",
    "            block(256,512)\n",
    "        )\n",
    "        self.classifier=nn.Sequential(\n",
    "            nn.Linear(512*4*4,1024),\n",
    "            nn.ReLU(),\n",
    "            nn.Linear(1024,512),\n",
    "            nn.ReLU(),\n",
    "            nn.Linear(512,num_class)\n",
    "        )\n",
    "    \n",
    "    def forward(self,x):\n",
    "        x=self.cov(x)\n",
    "        x=x.view(-1,512*4*4)\n",
    "        x=self.classifier(x)\n",
    "        return x"
   ]
  },
  {
   "cell_type": "markdown",
   "metadata": {},
   "source": [
    "模型，优化器，损失函数"
   ]
  },
  {
   "cell_type": "code",
   "execution_count": 38,
   "metadata": {},
   "outputs": [],
   "source": [
    "model=VGG().to(dev)\n",
    "opt=torch.optim.SGD(model.parameters(),lr=0.01)\n",
    "loss_func=F.cross_entropy"
   ]
  },
  {
   "cell_type": "markdown",
   "metadata": {},
   "source": [
    "训练过程"
   ]
  },
  {
   "cell_type": "code",
   "execution_count": 39,
   "metadata": {},
   "outputs": [
    {
     "name": "stdout",
     "output_type": "stream",
     "text": [
      "0 tensor(3.3825, device='cuda:0')\n",
      "1 tensor(1.4348, device='cuda:0')\n",
      "2 tensor(0.8740, device='cuda:0')\n",
      "3 tensor(0.7558, device='cuda:0')\n",
      "4 tensor(0.5363, device='cuda:0')\n",
      "5 tensor(0.5264, device='cuda:0')\n",
      "6 tensor(0.7382, device='cuda:0')\n",
      "7 tensor(0.4795, device='cuda:0')\n",
      "8 tensor(0.5460, device='cuda:0')\n",
      "9 tensor(0.3940, device='cuda:0')\n",
      "10 tensor(0.3965, device='cuda:0')\n",
      "11 tensor(0.6228, device='cuda:0')\n",
      "12 tensor(0.3312, device='cuda:0')\n",
      "13 tensor(0.3194, device='cuda:0')\n",
      "14 tensor(0.3215, device='cuda:0')\n",
      "15 tensor(0.3852, device='cuda:0')\n",
      "16 tensor(0.4272, device='cuda:0')\n",
      "17 tensor(0.4473, device='cuda:0')\n",
      "18 tensor(0.4242, device='cuda:0')\n",
      "19 tensor(0.3004, device='cuda:0')\n",
      "20 tensor(0.3867, device='cuda:0')\n",
      "21 tensor(0.3377, device='cuda:0')\n",
      "22 tensor(0.3000, device='cuda:0')\n",
      "23 tensor(0.4512, device='cuda:0')\n",
      "24 tensor(0.3190, device='cuda:0')\n",
      "25 tensor(0.5520, device='cuda:0')\n",
      "26 tensor(0.2648, device='cuda:0')\n",
      "27 tensor(0.2692, device='cuda:0')\n",
      "28 tensor(0.3685, device='cuda:0')\n",
      "29 tensor(0.3654, device='cuda:0')\n",
      "30 tensor(0.3385, device='cuda:0')\n",
      "31 tensor(0.3081, device='cuda:0')\n",
      "32 tensor(0.4719, device='cuda:0')\n",
      "33 tensor(0.2634, device='cuda:0')\n",
      "34 tensor(0.3137, device='cuda:0')\n",
      "35 tensor(1.5861, device='cuda:0')\n",
      "36 tensor(0.3405, device='cuda:0')\n",
      "37 tensor(0.3249, device='cuda:0')\n",
      "38 tensor(0.2940, device='cuda:0')\n",
      "39 tensor(0.3125, device='cuda:0')\n",
      "40 tensor(0.3379, device='cuda:0')\n",
      "41 tensor(0.3009, device='cuda:0')\n",
      "42 tensor(0.2956, device='cuda:0')\n",
      "43 tensor(0.3818, device='cuda:0')\n",
      "44 tensor(0.2782, device='cuda:0')\n",
      "45 tensor(0.2569, device='cuda:0')\n",
      "46 tensor(0.3248, device='cuda:0')\n",
      "47 tensor(0.2628, device='cuda:0')\n",
      "48 tensor(0.2768, device='cuda:0')\n",
      "49 tensor(0.2922, device='cuda:0')\n"
     ]
    }
   ],
   "source": [
    "epochs=50\n",
    "for epoch in range(epochs):\n",
    "    model.train()\n",
    "    for xb,yb in train_dl:\n",
    "        pred=model(xb).to(dev)\n",
    "        loss=loss_func(pred,yb)\n",
    "\n",
    "        loss.backward()\n",
    "        opt.step()\n",
    "        opt.zero_grad()\n",
    "\n",
    "    model.eval()\n",
    "    with torch.no_grad():\n",
    "        test_loss=sum(loss_func(model(xb),yb) for xb,yb in test_dl)\n",
    "    \n",
    "    print(epoch,test_loss/len(test_dl))\n"
   ]
  },
  {
   "cell_type": "code",
   "execution_count": 40,
   "metadata": {},
   "outputs": [
    {
     "name": "stdout",
     "output_type": "stream",
     "text": [
      "tensor(5393, device='cuda:0') 5845\n"
     ]
    }
   ],
   "source": [
    "import numpy as np\n",
    "with torch.no_grad():\n",
    "    print(sum([np.argmax(model(torch.unsqueeze(xb,0)).cpu())==yb for xb,yb in test_dataset]),len(test_dataset))"
   ]
  }
 ],
 "metadata": {
  "kernelspec": {
   "display_name": "ds",
   "language": "python",
   "name": "python3"
  },
  "language_info": {
   "codemirror_mode": {
    "name": "ipython",
    "version": 3
   },
   "file_extension": ".py",
   "mimetype": "text/x-python",
   "name": "python",
   "nbconvert_exporter": "python",
   "pygments_lexer": "ipython3",
   "version": "3.10.13"
  }
 },
 "nbformat": 4,
 "nbformat_minor": 2
}
